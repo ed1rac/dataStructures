{
 "cells": [
  {
   "cell_type": "markdown",
   "metadata": {
    "colab_type": "text",
    "id": "hAVX4OpEZsJm"
   },
   "source": [
    "## Escorpo de variáveis no Python\n",
    "Existem dois escorpos para variáveis no python:\n",
    "* Escorpo Global \n",
    "* Escorpo Local"
   ]
  },
  {
   "cell_type": "markdown",
   "metadata": {
    "colab_type": "text",
    "id": "QeP8s7guZsJo"
   },
   "source": [
    "## Variáveis globais\n",
    "Em python uma váriavel declarada fora do escopo de uma função é tratada como global"
   ]
  },
  {
   "cell_type": "code",
   "execution_count": 1,
   "metadata": {
    "colab": {},
    "colab_type": "code",
    "id": "eozgTzTtZsJp"
   },
   "outputs": [
    {
     "name": "stdout",
     "output_type": "stream",
     "text": [
      "Valor dentro da função é:  global\n",
      "Valor fora da função é:  global\n"
     ]
    }
   ],
   "source": [
    "x = \"global\"\n",
    "\n",
    "def fun():\n",
    "    print(\"Valor dentro da função é: \", x)\n",
    "    \n",
    "fun()\n",
    "print(\"Valor fora da função é: \", x)"
   ]
  },
  {
   "cell_type": "markdown",
   "metadata": {
    "colab_type": "text",
    "id": "S_W1yBdDZsJ1"
   },
   "source": [
    "Quando utilizamos um valor de x declarado como ` global ` e depois x declarado dentro do escopo de uma função recebemos um erro ` UnboundLocalError: local variable 'x' referenced before assignment ` pois ao realizar uma modificação em uma variável, o python por padrão busca-a no escorpo local, exemplo:"
   ]
  },
  {
   "cell_type": "code",
   "execution_count": 2,
   "metadata": {
    "colab": {},
    "colab_type": "code",
    "id": "NS8IjKPAZsJ4"
   },
   "outputs": [
    {
     "ename": "UnboundLocalError",
     "evalue": "local variable 'x' referenced before assignment",
     "output_type": "error",
     "traceback": [
      "\u001b[0;31m---------------------------------------------------------------------------\u001b[0m",
      "\u001b[0;31mUnboundLocalError\u001b[0m                         Traceback (most recent call last)",
      "\u001b[0;32m<ipython-input-2-44b19fc05d52>\u001b[0m in \u001b[0;36m<module>\u001b[0;34m()\u001b[0m\n\u001b[1;32m      5\u001b[0m     \u001b[0mprint\u001b[0m\u001b[0;34m(\u001b[0m\u001b[0;34m\"Valor dentro da função é: \"\u001b[0m\u001b[0;34m,\u001b[0m \u001b[0mx\u001b[0m\u001b[0;34m)\u001b[0m\u001b[0;34m\u001b[0m\u001b[0m\n\u001b[1;32m      6\u001b[0m \u001b[0;34m\u001b[0m\u001b[0m\n\u001b[0;32m----> 7\u001b[0;31m \u001b[0mfun\u001b[0m\u001b[0;34m(\u001b[0m\u001b[0;34m)\u001b[0m\u001b[0;34m\u001b[0m\u001b[0m\n\u001b[0m\u001b[1;32m      8\u001b[0m \u001b[0mprint\u001b[0m\u001b[0;34m(\u001b[0m\u001b[0;34m\"Valor fora da função é: \"\u001b[0m\u001b[0;34m,\u001b[0m \u001b[0mx\u001b[0m\u001b[0;34m)\u001b[0m\u001b[0;34m\u001b[0m\u001b[0m\n",
      "\u001b[0;32m<ipython-input-2-44b19fc05d52>\u001b[0m in \u001b[0;36mfun\u001b[0;34m()\u001b[0m\n\u001b[1;32m      2\u001b[0m \u001b[0;34m\u001b[0m\u001b[0m\n\u001b[1;32m      3\u001b[0m \u001b[0;32mdef\u001b[0m \u001b[0mfun\u001b[0m\u001b[0;34m(\u001b[0m\u001b[0;34m)\u001b[0m\u001b[0;34m:\u001b[0m\u001b[0;34m\u001b[0m\u001b[0m\n\u001b[0;32m----> 4\u001b[0;31m     \u001b[0mx\u001b[0m \u001b[0;34m+=\u001b[0m \u001b[0;36m1\u001b[0m\u001b[0;34m\u001b[0m\u001b[0m\n\u001b[0m\u001b[1;32m      5\u001b[0m     \u001b[0mprint\u001b[0m\u001b[0;34m(\u001b[0m\u001b[0;34m\"Valor dentro da função é: \"\u001b[0m\u001b[0;34m,\u001b[0m \u001b[0mx\u001b[0m\u001b[0;34m)\u001b[0m\u001b[0;34m\u001b[0m\u001b[0m\n\u001b[1;32m      6\u001b[0m \u001b[0;34m\u001b[0m\u001b[0m\n",
      "\u001b[0;31mUnboundLocalError\u001b[0m: local variable 'x' referenced before assignment"
     ]
    }
   ],
   "source": [
    "x = 0\n",
    "\n",
    "def fun():\n",
    "    x += 1\n",
    "    print(\"Valor dentro da função é: \", x)\n",
    "    \n",
    "fun()\n",
    "print(\"Valor fora da função é: \", x)"
   ]
  },
  {
   "cell_type": "markdown",
   "metadata": {
    "colab_type": "text",
    "id": "s1Ev-AS5ZsJ8"
   },
   "source": [
    "Podemos contornar o erro anterior declarando que usaremos o escopo global na função. Com o `global` o python busca a variável x no escorpo global. "
   ]
  },
  {
   "cell_type": "code",
   "execution_count": null,
   "metadata": {
    "colab": {},
    "colab_type": "code",
    "id": "ajSCInWaZsJ9"
   },
   "outputs": [],
   "source": [
    "x = 0\n",
    "\n",
    "def fun():\n",
    "    global x\n",
    "    x += 1\n",
    "    print(\"Valor dentro da função é: \", x)\n",
    "    \n",
    "fun()\n",
    "\n",
    "print(\"Valor fora da função é: \", x)"
   ]
  },
  {
   "cell_type": "markdown",
   "metadata": {
    "colab_type": "text",
    "id": "xXM6rxF9ZsKB"
   },
   "source": [
    "## Variáveis globais e locais\n",
    "\n",
    "Se definirmos uma variavel global e local com o mesmo nome, o python diferencia o valor de acordo com o escopo da função."
   ]
  },
  {
   "cell_type": "code",
   "execution_count": null,
   "metadata": {
    "colab": {
     "base_uri": "https://localhost:8080/",
     "height": 52
    },
    "colab_type": "code",
    "executionInfo": {
     "elapsed": 736,
     "status": "ok",
     "timestamp": 1539786436109,
     "user": {
      "displayName": "Epitácio Bessa",
      "photoUrl": "",
      "userId": "03506548942151595453"
     },
     "user_tz": 180
    },
    "id": "Unal5vprZsKB",
    "outputId": "60e7ef49-c8fc-4a5a-bb0a-702e736cc4c1"
   },
   "outputs": [],
   "source": [
    "x = 0\n",
    "\n",
    "def fun():\n",
    "    x = 1\n",
    "    x += 2\n",
    "    print(\"Valor dentro da função é: \", x)\n",
    "    \n",
    "fun()\n",
    "\n",
    "print(\"Valor fora da função é: \", x)"
   ]
  },
  {
   "cell_type": "markdown",
   "metadata": {
    "colab_type": "text",
    "id": "f8MSfFR6ZsKH"
   },
   "source": [
    "## Non local variables\n",
    "`Nonlocal` é utilizado quando se quer realizar modificações em uma variável local dentro de uma função aninhada a outra.\n",
    "\n",
    "No exemplo abaixo, se mudarmos o valor da variável x dentro da `fun2` com `nonlocal`, as modificações também são feitas no escopo local."
   ]
  },
  {
   "cell_type": "code",
   "execution_count": null,
   "metadata": {
    "colab": {
     "base_uri": "https://localhost:8080/",
     "height": 52
    },
    "colab_type": "code",
    "executionInfo": {
     "elapsed": 659,
     "status": "ok",
     "timestamp": 1539786971959,
     "user": {
      "displayName": "Epitácio Bessa",
      "photoUrl": "",
      "userId": "03506548942151595453"
     },
     "user_tz": 180
    },
    "id": "-PNV379eZsKI",
    "outputId": "4f6510f6-b040-4f33-a32c-dda3d6baf398",
    "scrolled": false
   },
   "outputs": [],
   "source": [
    "x = \"global\"\n",
    "\n",
    "def fun1():\n",
    "    def fun2():\n",
    "        nonlocal x\n",
    "        x = \"nonlocal\"\n",
    "        print(\"fun2:\", x)\n",
    "    \n",
    "    fun2()\n",
    "    x = \"local\"\n",
    "    print(\"fun1:\", x)\n",
    "\n",
    "fun1()"
   ]
  },
  {
   "cell_type": "markdown",
   "metadata": {
    "colab_type": "text",
    "id": "XNkUbf0AZsKM"
   },
   "source": [
    "Mesmo tendo declarado uma variável `global`, com o `nonlocal` as alterações só ocorrem no escorpo local."
   ]
  },
  {
   "cell_type": "code",
   "execution_count": null,
   "metadata": {
    "colab": {
     "base_uri": "https://localhost:8080/",
     "height": 70
    },
    "colab_type": "code",
    "executionInfo": {
     "elapsed": 719,
     "status": "ok",
     "timestamp": 1539787166303,
     "user": {
      "displayName": "Epitácio Bessa",
      "photoUrl": "",
      "userId": "03506548942151595453"
     },
     "user_tz": 180
    },
    "id": "Zo17pGAoZsKM",
    "outputId": "b999a6e9-e600-40d3-a699-3855abab80ed"
   },
   "outputs": [],
   "source": [
    "z = \"global\"\n",
    "\n",
    "def fun1():\n",
    "    z = \"local\"\n",
    "    \n",
    "    def fun2():\n",
    "        nonlocal z\n",
    "        z = \"nonlocal\"\n",
    "        print(\"fun2:\", z)\n",
    "    \n",
    "    fun2()\n",
    "    print(\"fun1:\", z)\n",
    "\n",
    "fun1()\n",
    "print(\"funGlobal:\", z)"
   ]
  },
  {
   "cell_type": "markdown",
   "metadata": {
    "colab_type": "text",
    "id": "uHqp3nwF6oOR"
   },
   "source": [
    "Exemplo utilizando `nonlocal` e `global`"
   ]
  },
  {
   "cell_type": "code",
   "execution_count": null,
   "metadata": {
    "colab": {
     "base_uri": "https://localhost:8080/",
     "height": 86
    },
    "colab_type": "code",
    "executionInfo": {
     "elapsed": 834,
     "status": "ok",
     "timestamp": 1539828303627,
     "user": {
      "displayName": "Epitácio Bessa",
      "photoUrl": "",
      "userId": "03506548942151595453"
     },
     "user_tz": 180
    },
    "id": "JtHPqRCcZsKT",
    "outputId": "304ece0b-4294-423b-bca8-a8e87a42fe72"
   },
   "outputs": [],
   "source": [
    "z = \"a\"\n",
    "\n",
    "def fun1():\n",
    "    z = \"b\"\n",
    "    \n",
    "    def fun2():\n",
    "        nonlocal z\n",
    "        z = \"c\"\n",
    "        print(\"fun2:\", z)\n",
    "        \n",
    "    def fun3():\n",
    "        global z\n",
    "        z = \"d\"\n",
    "        print(\"fun3:\", z)\n",
    "        \n",
    "    fun2()\n",
    "    fun3()\n",
    "    print(\"fun1:\", z)\n",
    "\n",
    "fun1()\n",
    "print(\"fun0:\", z)"
   ]
  },
  {
   "cell_type": "markdown",
   "metadata": {
    "colab_type": "text",
    "id": "oqRisH5sZsKX"
   },
   "source": [
    "## Bibliografia\n",
    "\n",
    "[Referência documentação python de nonlocal](https://docs.python.org/3/reference/simple_stmts.html#nonlocal)\n",
    "\n",
    "\n",
    "[PEP 3140](https://www.python.org/dev/peps/pep-3104/)"
   ]
  },
  {
   "cell_type": "code",
   "execution_count": null,
   "metadata": {
    "colab": {},
    "colab_type": "code",
    "id": "V5iHGy9KZsKY"
   },
   "outputs": [],
   "source": []
  }
 ],
 "metadata": {
  "colab": {
   "collapsed_sections": [],
   "name": "Non local variables.ipynb",
   "provenance": [],
   "version": "0.3.2"
  },
  "kernelspec": {
   "display_name": "Python 3",
   "language": "python",
   "name": "python3"
  },
  "language_info": {
   "codemirror_mode": {
    "name": "ipython",
    "version": 3
   },
   "file_extension": ".py",
   "mimetype": "text/x-python",
   "name": "python",
   "nbconvert_exporter": "python",
   "pygments_lexer": "ipython3",
   "version": "3.6.4"
  }
 },
 "nbformat": 4,
 "nbformat_minor": 1
}
